{
 "cells": [
  {
   "cell_type": "code",
   "execution_count": 1,
   "id": "d3fe1a44",
   "metadata": {},
   "outputs": [
    {
     "data": {
      "text/plain": [
       "['Books_data\\\\Addiction, Procrastination, and Laziness.txt',\n",
       " 'Books_data\\\\Drive The Surprising Truth about What Motivates Us.txt',\n",
       " 'Books_data\\\\Law of Attraction The Secret Power of The Universe.txt',\n",
       " 'Books_data\\\\Payoff The Hidden Logic That Shapes Our Motivations.txt',\n",
       " 'Books_data\\\\The Motivation Hacker by Nick Winter.txt']"
      ]
     },
     "execution_count": 1,
     "metadata": {},
     "output_type": "execute_result"
    }
   ],
   "source": [
    "#importing the glob library for Retrieving a list of all text files present in a folder\n",
    "import glob\n",
    "\n",
    "#The book files are contained in the folder Desertation/Books_data\n",
    "data_folder = \"Books_data/\"\n",
    "\n",
    "#List all the .txt files and sort them alphabetically\n",
    "files = glob.glob(data_folder + \"*.txt\")\n",
    "\n",
    "files.sort()\n",
    "files"
   ]
  },
  {
   "cell_type": "code",
   "execution_count": 2,
   "id": "62d4f075",
   "metadata": {},
   "outputs": [],
   "source": [
    "# Import libraries\n",
    "import re, os\n",
    "\n",
    "# Initialize the object that will contain the texts and titles\n",
    "books = []\n",
    "titles = []\n",
    "\n",
    "for p in files:\n",
    "    # Open each file\n",
    "    files = open(p, encoding='utf-8-sig')\n",
    "    # Remove all non-alpha-numeric characters\n",
    "    data = re.sub('[\\W_]+', ' ', files.read())\n",
    "    # Store the texts and titles of the books in two separate lists\n",
    "    books.append(data)\n",
    "    #Using os.path.basename() and replace() functions to remove the folder name and .txt extension from the file name.\n",
    "    titles.append(os.path.basename(p).replace(\".txt\", \"\"))\n",
    "    \n"
   ]
  },
  {
   "cell_type": "code",
   "execution_count": 3,
   "id": "76f61760",
   "metadata": {},
   "outputs": [
    {
     "data": {
      "text/plain": [
       "[187599, 294961, 161866, 136814, 223829]"
      ]
     },
     "execution_count": 3,
     "metadata": {},
     "output_type": "execute_result"
    }
   ],
   "source": [
    "# Counting characters in each book\n",
    "characters = [len(t) for t in books]\n",
    "characters"
   ]
  },
  {
   "cell_type": "code",
   "execution_count": 4,
   "id": "a3ee7dcf",
   "metadata": {},
   "outputs": [
    {
     "data": {
      "text/plain": [
       "[33048, 51310, 31692, 24618, 42594]"
      ]
     },
     "execution_count": 4,
     "metadata": {},
     "output_type": "execute_result"
    }
   ],
   "source": [
    "#counting the number of words in each book\n",
    "words = [len(words.split()) for words in books]\n",
    "words"
   ]
  },
  {
   "cell_type": "code",
   "execution_count": 5,
   "id": "e63351ff",
   "metadata": {},
   "outputs": [
    {
     "data": {
      "text/plain": [
       "['Addiction, Procrastination, and Laziness',\n",
       " 'Drive The Surprising Truth about What Motivates Us',\n",
       " 'Law of Attraction The Secret Power of The Universe',\n",
       " 'Payoff The Hidden Logic That Shapes Our Motivations',\n",
       " 'The Motivation Hacker by Nick Winter']"
      ]
     },
     "execution_count": 5,
     "metadata": {},
     "output_type": "execute_result"
    }
   ],
   "source": [
    "titles "
   ]
  },
  {
   "cell_type": "code",
   "execution_count": 6,
   "id": "011945e9",
   "metadata": {},
   "outputs": [
    {
     "data": {
      "text/plain": [
       "['Roman Gelperin',\n",
       " 'Daniel H Pink',\n",
       " 'Jenny Loveless',\n",
       " 'Ariely Dan',\n",
       " 'Nick Winter']"
      ]
     },
     "execution_count": 6,
     "metadata": {},
     "output_type": "execute_result"
    }
   ],
   "source": [
    "authors = [\"Roman Gelperin\",\"Daniel H Pink\", \"Jenny Loveless\",\"Ariely Dan\", \"Nick Winter\" ]\n",
    "authors"
   ]
  },
  {
   "cell_type": "code",
   "execution_count": 7,
   "id": "9c15c9ea",
   "metadata": {},
   "outputs": [],
   "source": [
    "# Creating a dictinary object to store index, titles, authors and book texts\n",
    "Book_dict = {\"Titles\":titles, \"authors\": authors, \"book_texts\":books}\n"
   ]
  },
  {
   "cell_type": "code",
   "execution_count": 8,
   "id": "a4452604",
   "metadata": {},
   "outputs": [
    {
     "data": {
      "text/html": [
       "<div>\n",
       "<style scoped>\n",
       "    .dataframe tbody tr th:only-of-type {\n",
       "        vertical-align: middle;\n",
       "    }\n",
       "\n",
       "    .dataframe tbody tr th {\n",
       "        vertical-align: top;\n",
       "    }\n",
       "\n",
       "    .dataframe thead th {\n",
       "        text-align: right;\n",
       "    }\n",
       "</style>\n",
       "<table border=\"1\" class=\"dataframe\">\n",
       "  <thead>\n",
       "    <tr style=\"text-align: right;\">\n",
       "      <th></th>\n",
       "      <th>Titles</th>\n",
       "      <th>authors</th>\n",
       "      <th>book_texts</th>\n",
       "    </tr>\n",
       "  </thead>\n",
       "  <tbody>\n",
       "    <tr>\n",
       "      <th>0</th>\n",
       "      <td>Addiction, Procrastination, and Laziness</td>\n",
       "      <td>Roman Gelperin</td>\n",
       "      <td>Addiction Procrastination and Laziness A Proac...</td>\n",
       "    </tr>\n",
       "    <tr>\n",
       "      <th>1</th>\n",
       "      <td>Drive The Surprising Truth about What Motivate...</td>\n",
       "      <td>Daniel H Pink</td>\n",
       "      <td>Drive The Surrising truth about what motivates...</td>\n",
       "    </tr>\n",
       "    <tr>\n",
       "      <th>2</th>\n",
       "      <td>Law of Attraction The Secret Power of The Univ...</td>\n",
       "      <td>Jenny Loveless</td>\n",
       "      <td>The Law of Attraction The Secret Power Of The ...</td>\n",
       "    </tr>\n",
       "    <tr>\n",
       "      <th>3</th>\n",
       "      <td>Payoff The Hidden Logic That Shapes Our Motiva...</td>\n",
       "      <td>Ariely Dan</td>\n",
       "      <td>Payoff The Hidden Logic That shapes our Motiv...</td>\n",
       "    </tr>\n",
       "    <tr>\n",
       "      <th>4</th>\n",
       "      <td>The Motivation Hacker by Nick Winter</td>\n",
       "      <td>Nick Winter</td>\n",
       "      <td>The Motivation Hacker by Nick Winter Contents ...</td>\n",
       "    </tr>\n",
       "  </tbody>\n",
       "</table>\n",
       "</div>"
      ],
      "text/plain": [
       "                                              Titles         authors  \\\n",
       "0           Addiction, Procrastination, and Laziness  Roman Gelperin   \n",
       "1  Drive The Surprising Truth about What Motivate...   Daniel H Pink   \n",
       "2  Law of Attraction The Secret Power of The Univ...  Jenny Loveless   \n",
       "3  Payoff The Hidden Logic That Shapes Our Motiva...      Ariely Dan   \n",
       "4               The Motivation Hacker by Nick Winter     Nick Winter   \n",
       "\n",
       "                                          book_texts  \n",
       "0  Addiction Procrastination and Laziness A Proac...  \n",
       "1  Drive The Surrising truth about what motivates...  \n",
       "2  The Law of Attraction The Secret Power Of The ...  \n",
       "3   Payoff The Hidden Logic That shapes our Motiv...  \n",
       "4  The Motivation Hacker by Nick Winter Contents ...  "
      ]
     },
     "execution_count": 8,
     "metadata": {},
     "output_type": "execute_result"
    }
   ],
   "source": [
    "import pandas as pd\n",
    "# Creating a dataframe using dictory object\n",
    "Books_dataFrame = pd.DataFrame(Book_dict)\n",
    "Books_dataFrame"
   ]
  },
  {
   "cell_type": "code",
   "execution_count": 10,
   "id": "0cb29558",
   "metadata": {},
   "outputs": [],
   "source": [
    "# Books_dataFrame.to_csv(r'C:\\Users\\Sudheena Sona\\Desktop\\Desertation\\my_books.csv', index = False)    "
   ]
  },
  {
   "cell_type": "code",
   "execution_count": 9,
   "id": "1b1f46dc",
   "metadata": {},
   "outputs": [
    {
     "data": {
      "image/png": "[encoded data removed]",
      "text/plain": [
       "<Figure size 432x288 with 1 Axes>"
      ]
     },
     "metadata": {
      "needs_background": "light"
     },
     "output_type": "display_data"
    }
   ],
   "source": [
    "#Bar plot\n",
    "import numpy as np\n",
    "import matplotlib.pyplot as plt\n",
    "%matplotlib inline\n",
    "plt.bar(titles, words, color = 'green', width = 0.5)\n",
    "plt.xlabel(\"Book name\", color = \"blue\")\n",
    "plt.ylabel(\"word count\", color = \"blue\")\n",
    "plt.title(\"Number of words in each books\", color=\"blue\" )\n",
    "plt.xticks(rotation=90, color= \"red\")\n",
    "plt.yticks(color='red')\n",
    "#plt.savefig(\"words.pdf\")\n",
    "plt.show()\n"
   ]
  },
  {
   "cell_type": "code",
   "execution_count": 11,
   "id": "45d0eee3",
   "metadata": {
    "scrolled": true
   },
   "outputs": [],
   "source": [
    "#Storing the texts of each books into sepearte variables for future reference\n",
    "#Book_1 = Addiction procastination and laziness\n",
    "book_1 = books[0]\n",
    "# Book_2 = Drive The Surprising Truth about What Motivates Us\n",
    "book_2 = books[1]\n",
    "# Book_3 = Law of Attraction The Secret Power of The Universe \n",
    "book_3 = books[2]\n",
    "# Book_4 = Payoff The Hidden Logic That Shapes Our Motivations\n",
    "book_4 = books[3]\n",
    "# Book_5 = The Motivation Hacker\n",
    "book_5 = books[4]\n"
   ]
  },
  {
   "cell_type": "code",
   "execution_count": 12,
   "id": "1589a7b1",
   "metadata": {},
   "outputs": [],
   "source": [
    "#Defining stop words\n",
    "stop_words = ['a', 'about', 'above', 'after', 'again', 'against', 'ain', 'all', 'am', 'an', 'and', 'any', 'are', 'aren', \n",
    "\"aren't\", 'as', 'at', 'be', 'because', 'been', 'before', 'being', 'below', 'between', 'both', 'but', 'by', 'can', 'couldn',\n",
    "\"couldn't\", 'd', 'did', 'didn', \"didn't\", 'do', 'does', 'doesn', \"doesn't\", 'doing', 'don', \"don't\", 'down', 'during', \n",
    "'each', 'few', 'for', 'from', 'further', 'had', 'hadn', \"hadn't\", 'has', 'hasn', \"hasn't\", 'have', 'haven', \"haven't\", \n",
    "'having', 'he', 'her', 'here', 'hers', 'herself', 'him', 'himself', 'his', 'how', 'i', 'if', 'in', 'into', 'is', 'isn', \n",
    "\"isn't\", 'it', \"it's\", 'its', 'itself', 'just', 'll', 'm', 'ma', 'me', 'mightn', \"mightn't\", 'more', 'most', 'mustn', \n",
    "\"mustn't\", 'my','myself', 'needn', \"needn't\", 'no', 'nor', 'not', 'now', 'o', 'of', 'off', 'on', 'once', 'only', 'or', \n",
    "'other', 'our', 'ours', 'ourselves', 'out', 'over', 'yours', 'yourself', 'yourselves',\"you'll\", \"you're\", \"you've\", 'your',\n",
    "'own', 're', 's', 'same', 'shan', \"shan't\", 'she', \"she's\", 'should', \"should've\", 'shouldn', \"shouldn't\", 'so', 'some', \n",
    "'such', 't', 'than', 'that', \"that'll\", 'the', 'their', 'theirs', 'them', 'themselves', 'then', 'there', 'these', \n",
    "'they', 'this', 'those', 'through', 'to', 'too', 'under', 'until', 'up', 've', 'very', 'was', 'wasn', \"wasn't\", \n",
    "'we', 'were', 'weren', \"weren't\", 'what', 'when', 'where', 'which', 're', 's', 'same', 'shan', \"shan't\", 'she', \n",
    "\"she's\", 'should', \"should've\", 'shouldn', \"shouldn't\", 'so', 'some', 'such', 't', 'than', 'that', \"that'll\", \n",
    "'the', 'their', 'theirs', 'them', 'themselves', 'then', 'there', 'these', 'they', 'this', 'those', 'through', \n",
    "'to', 'too', 'under', 'until', 'up', 've', 'very', 'was', 'wasn', \"wasn't\", 'we', 'were', 'weren', \"weren't\", \n",
    "'what', 'when', 'where', 'which', 'while', 'who', 'whom', 'why', 'will', 'with', 'won', \"won't\", 'wouldn', \n",
    "\"wouldn't\", 'y', 'you', \"you'd\"]\n",
    "       "
   ]
  },
  {
   "cell_type": "code",
   "execution_count": 14,
   "id": "5e4d9b5e",
   "metadata": {},
   "outputs": [],
   "source": [
    "# Convert the texts to lower case \n",
    "lower_case = [letters.lower() for letters in books]\n",
    "#lower_case\n"
   ]
  },
  {
   "cell_type": "code",
   "execution_count": 15,
   "id": "9f1d3039",
   "metadata": {},
   "outputs": [],
   "source": [
    "# Transform the text into tokens \n",
    "texts_tokens = [txt.split() for txt in lower_case]\n",
    "\n",
    "# Remove tokens which are part of the list of stop words\n",
    "books = [[word for word in txt if word not in stop_words] for txt in texts_tokens]"
   ]
  },
  {
   "cell_type": "markdown",
   "id": "0e7511eb",
   "metadata": {},
   "source": [
    "\n",
    " Printing the first 15 tokens of each book\n"
   ]
  },
  {
   "cell_type": "code",
   "execution_count": 22,
   "id": "f91caf26",
   "metadata": {},
   "outputs": [
    {
     "data": {
      "text/plain": [
       "['addiction', 'procrastination', 'laziness', 'proactive', 'guide']"
      ]
     },
     "execution_count": 22,
     "metadata": {},
     "output_type": "execute_result"
    }
   ],
   "source": [
    "\n",
    "# Book 1\n",
    "#books[0][0:15]\n"
   ]
  },
  {
   "cell_type": "code",
   "execution_count": 18,
   "id": "47c6562e",
   "metadata": {},
   "outputs": [],
   "source": [
    "# Book 2\n",
    "#books[1][0:15]"
   ]
  },
  {
   "cell_type": "code",
   "execution_count": 19,
   "id": "64bcf081",
   "metadata": {},
   "outputs": [],
   "source": [
    "#Book 3\n",
    "#books[2][0:15]"
   ]
  },
  {
   "cell_type": "code",
   "execution_count": 20,
   "id": "b055efc3",
   "metadata": {},
   "outputs": [],
   "source": [
    "#Book 4\n",
    "#books[3][0:15]"
   ]
  },
  {
   "cell_type": "code",
   "execution_count": 21,
   "id": "e82ad742",
   "metadata": {},
   "outputs": [],
   "source": [
    "#Book 5\n",
    "#books[4][0:15]"
   ]
  },
  {
   "cell_type": "markdown",
   "id": "03422371",
   "metadata": {},
   "source": [
    "when we go throgh the texts of each book we can find some words listed below which seems irrelevant to our analysis "
   ]
  },
  {
   "cell_type": "code",
   "execution_count": 23,
   "id": "e46c0e20",
   "metadata": {},
   "outputs": [],
   "source": [
    "irrelevent_words = [\"table\",\"of\",'contents', \"introduction\",\"conclusion\",\"chapters\",\"chapter\", \n",
    "                    \"one\",\"two\",\"three\", \"four\", \"five\",\"six\",\"seven\", \"eight\",\"nine\",\n",
    "                    \"ten\",\"eleven\",\"twelve\",\"thirteen\", \"0\",\"1\",\"2\",\"3\",\"4\",\"5\",\"6\",\"7\",\"8\",\"9\",\"10\",\"11\",\"12\",\"13\"]"
   ]
  },
  {
   "cell_type": "code",
   "execution_count": 24,
   "id": "70ecb6bf",
   "metadata": {},
   "outputs": [],
   "source": [
    "# Remove irrelevent words\n",
    "books = [[word for word in text if word not in irrelevent_words] for text in books]"
   ]
  },
  {
   "cell_type": "code",
   "execution_count": 25,
   "id": "2a035ae9",
   "metadata": {},
   "outputs": [],
   "source": [
    "#books[0:15]"
   ]
  },
  {
   "cell_type": "code",
   "execution_count": 26,
   "id": "eccb96cd",
   "metadata": {},
   "outputs": [],
   "source": [
    "#Stemming\n",
    "import  nltk\n",
    "from nltk.stem import PorterStemmer\n",
    "ps = PorterStemmer()"
   ]
  },
  {
   "cell_type": "code",
   "execution_count": 25,
   "id": "9fd66160",
   "metadata": {},
   "outputs": [],
   "source": [
    "# protection\tprotect\tprotective\tprotectively\n",
    "#print(ps.stem(\"protecting\"))"
   ]
  },
  {
   "cell_type": "code",
   "execution_count": 29,
   "id": "47686374",
   "metadata": {},
   "outputs": [],
   "source": [
    "#Generating stem for each words\n",
    "stems = [[ps.stem(words) for words in text] for text in books]\n",
    "\n",
    "#stems"
   ]
  },
  {
   "cell_type": "code",
   "execution_count": 30,
   "id": "5b72c045",
   "metadata": {},
   "outputs": [
    {
     "data": {
      "text/plain": [
       "['addict',\n",
       " 'procrastin',\n",
       " 'lazi',\n",
       " 'proactiv',\n",
       " 'guid',\n",
       " 'psycholog',\n",
       " 'motiv',\n",
       " 'roman',\n",
       " 'gelperin',\n",
       " 'anomali']"
      ]
     },
     "execution_count": 30,
     "metadata": {},
     "output_type": "execute_result"
    }
   ],
   "source": [
    "#First 7 stem words of book 1\n",
    "stems[0][0:10]  \n"
   ]
  },
  {
   "cell_type": "code",
   "execution_count": 31,
   "id": "807aedb2",
   "metadata": {},
   "outputs": [],
   "source": [
    "#stems[1][0:10]"
   ]
  },
  {
   "cell_type": "code",
   "execution_count": 33,
   "id": "303dbe52",
   "metadata": {},
   "outputs": [],
   "source": [
    "#stems[2][0:10]\n"
   ]
  },
  {
   "cell_type": "code",
   "execution_count": 34,
   "id": "8b6b367f",
   "metadata": {},
   "outputs": [],
   "source": [
    "#stems[3][0:10]"
   ]
  },
  {
   "cell_type": "code",
   "execution_count": 35,
   "id": "3f8e7e6a",
   "metadata": {},
   "outputs": [],
   "source": [
    "#stems[4][0:10]"
   ]
  },
  {
   "cell_type": "markdown",
   "id": "b8a13c9e",
   "metadata": {},
   "source": [
    "#### Counting the number of words after pre-processing in each book"
   ]
  },
  {
   "cell_type": "code",
   "execution_count": 36,
   "id": "57dd477d",
   "metadata": {},
   "outputs": [
    {
     "data": {
      "text/plain": [
       "[15595, 26646, 13319, 11989, 20335]"
      ]
     },
     "execution_count": 36,
     "metadata": {},
     "output_type": "execute_result"
    }
   ],
   "source": [
    "# Before pre-processing the number of words in each books was the following\n",
    "#number of words = [33048, 51310, 31692, 24618, 42594]\n",
    "\n",
    "words_after_preprocessing = [len(words) for words in stems]\n",
    "words_after_preprocessing"
   ]
  },
  {
   "cell_type": "markdown",
   "id": "12c5fcd2",
   "metadata": {},
   "source": [
    "#### Generating a bag of words model"
   ]
  },
  {
   "cell_type": "code",
   "execution_count": 37,
   "id": "a7a695f8",
   "metadata": {},
   "outputs": [
    {
     "name": "stdout",
     "output_type": "stream",
     "text": [
      "Dictionary(7516 unique tokens: ['14', '15', '16', '17', '18']...)\n"
     ]
    }
   ],
   "source": [
    "# Load the functions allowing to create and use dictionaries\n",
    "from gensim import corpora\n",
    "\n",
    "# Create a dictionary from the stemmed tokens\n",
    "dict = corpora.Dictionary(stems)\n",
    "\n",
    "print(dict)\n"
   ]
  },
  {
   "cell_type": "code",
   "execution_count": 38,
   "id": "ed8efcf0",
   "metadata": {},
   "outputs": [
    {
     "data": {
      "text/plain": [
       "[(0, 1),\n",
       " (1, 3),\n",
       " (2, 1),\n",
       " (3, 1),\n",
       " (4, 2),\n",
       " (5, 1),\n",
       " (6, 2),\n",
       " (7, 2),\n",
       " (8, 1),\n",
       " (9, 1)]"
      ]
     },
     "execution_count": 38,
     "metadata": {},
     "output_type": "execute_result"
    }
   ],
   "source": [
    "# Create a bag-of-words model for each book, using the previously generated dictionary\n",
    "bag_of_words = [dict.doc2bow(text) for text in stems]\n",
    "\n",
    "\n",
    "# Print the first five elements of the first book Bag of words model\n",
    "bag_of_words[0][0:10]"
   ]
  },
  {
   "cell_type": "markdown",
   "id": "0d20efc6",
   "metadata": {},
   "source": [
    "#### Counting the number of words in BOW model (unique words)"
   ]
  },
  {
   "cell_type": "code",
   "execution_count": 39,
   "id": "cb34fa6d",
   "metadata": {},
   "outputs": [
    {
     "data": {
      "text/plain": [
       "[2359, 4458, 1702, 2676, 3518]"
      ]
     },
     "execution_count": 39,
     "metadata": {},
     "output_type": "execute_result"
    }
   ],
   "source": [
    "bow_words = [len(words) for words in bag_of_words]\n",
    "bow_words"
   ]
  },
  {
   "cell_type": "markdown",
   "id": "4339a0cd",
   "metadata": {},
   "source": [
    "#### Most common words"
   ]
  },
  {
   "cell_type": "markdown",
   "id": "bdc954f0",
   "metadata": {},
   "source": [
    "Generating dataframe for each book which represent the frequency of  words in each book"
   ]
  },
  {
   "cell_type": "code",
   "execution_count": 40,
   "id": "7ced87fd",
   "metadata": {
    "scrolled": true
   },
   "outputs": [
    {
     "data": {
      "text/html": [
       "<div>\n",
       "<style scoped>\n",
       "    .dataframe tbody tr th:only-of-type {\n",
       "        vertical-align: middle;\n",
       "    }\n",
       "\n",
       "    .dataframe tbody tr th {\n",
       "        vertical-align: top;\n",
       "    }\n",
       "\n",
       "    .dataframe thead th {\n",
       "        text-align: right;\n",
       "    }\n",
       "</style>\n",
       "<table border=\"1\" class=\"dataframe\">\n",
       "  <thead>\n",
       "    <tr style=\"text-align: right;\">\n",
       "      <th></th>\n",
       "      <th>Index</th>\n",
       "      <th>Number of occurrences</th>\n",
       "      <th>Book1_token</th>\n",
       "    </tr>\n",
       "  </thead>\n",
       "  <tbody>\n",
       "    <tr>\n",
       "      <th>1556</th>\n",
       "      <td>1556</td>\n",
       "      <td>350</td>\n",
       "      <td>pleasur</td>\n",
       "    </tr>\n",
       "    <tr>\n",
       "      <th>1536</th>\n",
       "      <td>1536</td>\n",
       "      <td>228</td>\n",
       "      <td>person</td>\n",
       "    </tr>\n",
       "    <tr>\n",
       "      <th>96</th>\n",
       "      <td>96</td>\n",
       "      <td>220</td>\n",
       "      <td>activ</td>\n",
       "    </tr>\n",
       "    <tr>\n",
       "      <th>1370</th>\n",
       "      <td>1370</td>\n",
       "      <td>172</td>\n",
       "      <td>motiv</td>\n",
       "    </tr>\n",
       "    <tr>\n",
       "      <th>1281</th>\n",
       "      <td>1281</td>\n",
       "      <td>128</td>\n",
       "      <td>make</td>\n",
       "    </tr>\n",
       "    <tr>\n",
       "      <th>95</th>\n",
       "      <td>95</td>\n",
       "      <td>127</td>\n",
       "      <td>action</td>\n",
       "    </tr>\n",
       "    <tr>\n",
       "      <th>643</th>\n",
       "      <td>643</td>\n",
       "      <td>121</td>\n",
       "      <td>displeasur</td>\n",
       "    </tr>\n",
       "  </tbody>\n",
       "</table>\n",
       "</div>"
      ],
      "text/plain": [
       "      Index  Number of occurrences Book1_token\n",
       "1556   1556                    350     pleasur\n",
       "1536   1536                    228      person\n",
       "96       96                    220       activ\n",
       "1370   1370                    172       motiv\n",
       "1281   1281                    128        make\n",
       "95       95                    127      action\n",
       "643     643                    121  displeasur"
      ]
     },
     "execution_count": 40,
     "metadata": {},
     "output_type": "execute_result"
    }
   ],
   "source": [
    "# Book 1\n",
    "\n",
    "# Import pandas to create and manipulate DataFrames\n",
    "import pandas as pd\n",
    "\n",
    "# Convert the Bag of words model for book 1 into a DataFrame\n",
    "book_1_df = pd.DataFrame(bag_of_words[0])\n",
    "\n",
    "# Add the column names to the DataFrame\n",
    "book_1_df.columns = [\"Index\",\"Number of occurrences\"]\n",
    "\n",
    "# Add a column containing the token corresponding to the dictionary index\n",
    "book_1_df[\"Book1_token\"] = [dict[index] for index in book_1_df[\"Index\"]]\n",
    "\n",
    "# Sort the DataFrame by descending number of occurrences and print the first 7 values\n",
    "book1_df_head = book_1_df.sort_values(by=\"Number of occurrences\", ascending= False).head(7)\n",
    "book1_df_head"
   ]
  },
  {
   "cell_type": "code",
   "execution_count": 41,
   "id": "ec174e01",
   "metadata": {},
   "outputs": [
    {
     "data": {
      "image/png": "[encoded data removed]",
      "text/plain": [
       "<Figure size 432x288 with 1 Axes>"
      ]
     },
     "metadata": {
      "needs_background": "light"
     },
     "output_type": "display_data"
    }
   ],
   "source": [
    "%matplotlib inline\n",
    "plt.bar(book1_df_head[\"Book1_token\"], book1_df_head[\"Number of occurrences\"], color = 'brown', width = 0.5)\n",
    "plt.xlabel(\"Stemmed words\", color = \"red\")\n",
    "plt.ylabel(\"Number of occurrences\", color = \"red\")\n",
    "plt.title(\"Top 7 Most common words of 'Addiction, Procrastination, and Laziness' \", color=\"red\" )\n",
    "plt.xticks(rotation=0, color= \"blue\")\n",
    "plt.yticks(color='blue')\n",
    "#plt.savefig(\"words.pdf\")\n",
    "plt.show()"
   ]
  },
  {
   "cell_type": "code",
   "execution_count": 42,
   "id": "7d720f75",
   "metadata": {},
   "outputs": [
    {
     "data": {
      "text/html": [
       "<div>\n",
       "<style scoped>\n",
       "    .dataframe tbody tr th:only-of-type {\n",
       "        vertical-align: middle;\n",
       "    }\n",
       "\n",
       "    .dataframe tbody tr th {\n",
       "        vertical-align: top;\n",
       "    }\n",
       "\n",
       "    .dataframe thead th {\n",
       "        text-align: right;\n",
       "    }\n",
       "</style>\n",
       "<table border=\"1\" class=\"dataframe\">\n",
       "  <thead>\n",
       "    <tr style=\"text-align: right;\">\n",
       "      <th></th>\n",
       "      <th>Index</th>\n",
       "      <th>Number of occurrences</th>\n",
       "      <th>Book2_token</th>\n",
       "    </tr>\n",
       "  </thead>\n",
       "  <tbody>\n",
       "    <tr>\n",
       "      <th>1501</th>\n",
       "      <td>2334</td>\n",
       "      <td>299</td>\n",
       "      <td>work</td>\n",
       "    </tr>\n",
       "    <tr>\n",
       "      <th>870</th>\n",
       "      <td>1370</td>\n",
       "      <td>297</td>\n",
       "      <td>motiv</td>\n",
       "    </tr>\n",
       "    <tr>\n",
       "      <th>969</th>\n",
       "      <td>1523</td>\n",
       "      <td>265</td>\n",
       "      <td>peopl</td>\n",
       "    </tr>\n",
       "    <tr>\n",
       "      <th>1143</th>\n",
       "      <td>1771</td>\n",
       "      <td>193</td>\n",
       "      <td>reward</td>\n",
       "    </tr>\n",
       "    <tr>\n",
       "      <th>1379</th>\n",
       "      <td>2107</td>\n",
       "      <td>181</td>\n",
       "      <td>time</td>\n",
       "    </tr>\n",
       "    <tr>\n",
       "      <th>1414</th>\n",
       "      <td>2162</td>\n",
       "      <td>170</td>\n",
       "      <td>type</td>\n",
       "    </tr>\n",
       "    <tr>\n",
       "      <th>165</th>\n",
       "      <td>289</td>\n",
       "      <td>133</td>\n",
       "      <td>behavior</td>\n",
       "    </tr>\n",
       "  </tbody>\n",
       "</table>\n",
       "</div>"
      ],
      "text/plain": [
       "      Index  Number of occurrences Book2_token\n",
       "1501   2334                    299        work\n",
       "870    1370                    297       motiv\n",
       "969    1523                    265       peopl\n",
       "1143   1771                    193      reward\n",
       "1379   2107                    181        time\n",
       "1414   2162                    170        type\n",
       "165     289                    133    behavior"
      ]
     },
     "execution_count": 42,
     "metadata": {},
     "output_type": "execute_result"
    }
   ],
   "source": [
    "#book 2\n",
    "\n",
    "# Convert the Bag of words model for book 2 into a DataFrame\n",
    "book_2_df = pd.DataFrame(bag_of_words[1])\n",
    "\n",
    "# Add the column names to the DataFrame\n",
    "book_2_df.columns = [\"Index\",\"Number of occurrences\"]\n",
    "\n",
    "# Add a column containing the token corresponding to the dictionary index\n",
    "book_2_df[\"Book2_token\"] = [dict[index] for index in book_2_df[\"Index\"]]\n",
    "\n",
    "# Sort the DataFrame by descending number of occurrences and print the first 10 values\n",
    "book2_df_head = book_2_df.sort_values(by=\"Number of occurrences\", ascending=False).head(7)\n",
    "book2_df_head"
   ]
  },
  {
   "cell_type": "code",
   "execution_count": 43,
   "id": "cb2c8621",
   "metadata": {},
   "outputs": [
    {
     "data": {
      "image/png": "[encoded data removed]",
      "text/plain": [
       "<Figure size 432x288 with 1 Axes>"
      ]
     },
     "metadata": {
      "needs_background": "light"
     },
     "output_type": "display_data"
    }
   ],
   "source": [
    "%matplotlib inline\n",
    "plt.bar(book2_df_head[\"Book2_token\"], book2_df_head[\"Number of occurrences\"], color = 'brown', width = 0.5)\n",
    "plt.xlabel(\"Stemmed words\", color = \"red\")\n",
    "plt.ylabel(\"Number of occurrences\", color = \"red\")\n",
    "plt.title(\"Top 7 Most common words of 'Drive The Surprising Truth about What Motivates Us' \", color=\"red\" )\n",
    "plt.xticks(rotation=0, color= \"blue\")\n",
    "plt.yticks(color='blue')\n",
    "#plt.savefig(\"words.pdf\")\n",
    "plt.show()"
   ]
  },
  {
   "cell_type": "code",
   "execution_count": 44,
   "id": "bb2115e8",
   "metadata": {},
   "outputs": [
    {
     "data": {
      "text/html": [
       "<div>\n",
       "<style scoped>\n",
       "    .dataframe tbody tr th:only-of-type {\n",
       "        vertical-align: middle;\n",
       "    }\n",
       "\n",
       "    .dataframe tbody tr th {\n",
       "        vertical-align: top;\n",
       "    }\n",
       "\n",
       "    .dataframe thead th {\n",
       "        text-align: right;\n",
       "    }\n",
       "</style>\n",
       "<table border=\"1\" class=\"dataframe\">\n",
       "  <thead>\n",
       "    <tr style=\"text-align: right;\">\n",
       "      <th></th>\n",
       "      <th>Index</th>\n",
       "      <th>Number of occurrences</th>\n",
       "      <th>Book3_token</th>\n",
       "    </tr>\n",
       "  </thead>\n",
       "  <tbody>\n",
       "    <tr>\n",
       "      <th>901</th>\n",
       "      <td>2289</td>\n",
       "      <td>225</td>\n",
       "      <td>want</td>\n",
       "    </tr>\n",
       "    <tr>\n",
       "      <th>831</th>\n",
       "      <td>2094</td>\n",
       "      <td>193</td>\n",
       "      <td>thing</td>\n",
       "    </tr>\n",
       "    <tr>\n",
       "      <th>835</th>\n",
       "      <td>2099</td>\n",
       "      <td>145</td>\n",
       "      <td>thought</td>\n",
       "    </tr>\n",
       "    <tr>\n",
       "      <th>446</th>\n",
       "      <td>1214</td>\n",
       "      <td>129</td>\n",
       "      <td>law</td>\n",
       "    </tr>\n",
       "    <tr>\n",
       "      <th>881</th>\n",
       "      <td>2232</td>\n",
       "      <td>127</td>\n",
       "      <td>use</td>\n",
       "    </tr>\n",
       "    <tr>\n",
       "      <th>314</th>\n",
       "      <td>852</td>\n",
       "      <td>125</td>\n",
       "      <td>feel</td>\n",
       "    </tr>\n",
       "    <tr>\n",
       "      <th>353</th>\n",
       "      <td>948</td>\n",
       "      <td>124</td>\n",
       "      <td>get</td>\n",
       "    </tr>\n",
       "  </tbody>\n",
       "</table>\n",
       "</div>"
      ],
      "text/plain": [
       "     Index  Number of occurrences Book3_token\n",
       "901   2289                    225        want\n",
       "831   2094                    193       thing\n",
       "835   2099                    145     thought\n",
       "446   1214                    129         law\n",
       "881   2232                    127         use\n",
       "314    852                    125        feel\n",
       "353    948                    124         get"
      ]
     },
     "execution_count": 44,
     "metadata": {},
     "output_type": "execute_result"
    }
   ],
   "source": [
    "#book 3\n",
    "\n",
    "# Convert the Bag of words model for book 3 into a DataFrame\n",
    "book_3_df = pd.DataFrame(bag_of_words[2])\n",
    "\n",
    "# Add the column names to the DataFrame\n",
    "book_3_df.columns = [\"Index\",\"Number of occurrences\"]\n",
    "\n",
    "# Add a column containing the token corresponding to the dictionary index\n",
    "book_3_df[\"Book3_token\"] = [dict[index] for index in book_3_df[\"Index\"]]\n",
    "\n",
    "# Sort the DataFrame by descending number of occurrences and print the first 10 values\n",
    "book3_df_head = book_3_df.sort_values(by=\"Number of occurrences\", ascending=False).head(7)\n",
    "book3_df_head"
   ]
  },
  {
   "cell_type": "code",
   "execution_count": 45,
   "id": "5b570f6c",
   "metadata": {},
   "outputs": [
    {
     "data": {
      "image/png": "[encoded data removed]",
      "text/plain": [
       "<Figure size 432x288 with 1 Axes>"
      ]
     },
     "metadata": {
      "needs_background": "light"
     },
     "output_type": "display_data"
    }
   ],
   "source": [
    "%matplotlib inline\n",
    "plt.bar(book3_df_head[\"Book3_token\"], book3_df_head[\"Number of occurrences\"], color = 'brown', width = 0.5)\n",
    "plt.xlabel(\"Stemmed words\", color = \"red\")\n",
    "plt.ylabel(\"Number of occurrences\", color = \"red\")\n",
    "plt.title(\"Top 7 Most common words of 'The Law of Attraction, The Secret Power Of The Universe' \", color=\"red\" )\n",
    "plt.xticks(rotation=0, color= \"blue\")\n",
    "plt.yticks(color='blue')\n",
    "#plt.savefig(\"words.pdf\")\n",
    "plt.show()"
   ]
  },
  {
   "cell_type": "code",
   "execution_count": 46,
   "id": "970c2845",
   "metadata": {},
   "outputs": [
    {
     "data": {
      "text/html": [
       "<div>\n",
       "<style scoped>\n",
       "    .dataframe tbody tr th:only-of-type {\n",
       "        vertical-align: middle;\n",
       "    }\n",
       "\n",
       "    .dataframe tbody tr th {\n",
       "        vertical-align: top;\n",
       "    }\n",
       "\n",
       "    .dataframe thead th {\n",
       "        text-align: right;\n",
       "    }\n",
       "</style>\n",
       "<table border=\"1\" class=\"dataframe\">\n",
       "  <thead>\n",
       "    <tr style=\"text-align: right;\">\n",
       "      <th></th>\n",
       "      <th>Index</th>\n",
       "      <th>Number of occurrences</th>\n",
       "      <th>Book4_token</th>\n",
       "    </tr>\n",
       "  </thead>\n",
       "  <tbody>\n",
       "    <tr>\n",
       "      <th>1138</th>\n",
       "      <td>2334</td>\n",
       "      <td>156</td>\n",
       "      <td>work</td>\n",
       "    </tr>\n",
       "    <tr>\n",
       "      <th>672</th>\n",
       "      <td>1370</td>\n",
       "      <td>153</td>\n",
       "      <td>motiv</td>\n",
       "    </tr>\n",
       "    <tr>\n",
       "      <th>1146</th>\n",
       "      <td>2344</td>\n",
       "      <td>110</td>\n",
       "      <td>would</td>\n",
       "    </tr>\n",
       "    <tr>\n",
       "      <th>742</th>\n",
       "      <td>1523</td>\n",
       "      <td>82</td>\n",
       "      <td>peopl</td>\n",
       "    </tr>\n",
       "    <tr>\n",
       "      <th>1033</th>\n",
       "      <td>2107</td>\n",
       "      <td>78</td>\n",
       "      <td>time</td>\n",
       "    </tr>\n",
       "    <tr>\n",
       "      <th>380</th>\n",
       "      <td>804</td>\n",
       "      <td>66</td>\n",
       "      <td>experi</td>\n",
       "    </tr>\n",
       "    <tr>\n",
       "      <th>1084</th>\n",
       "      <td>2230</td>\n",
       "      <td>65</td>\n",
       "      <td>us</td>\n",
       "    </tr>\n",
       "  </tbody>\n",
       "</table>\n",
       "</div>"
      ],
      "text/plain": [
       "      Index  Number of occurrences Book4_token\n",
       "1138   2334                    156        work\n",
       "672    1370                    153       motiv\n",
       "1146   2344                    110       would\n",
       "742    1523                     82       peopl\n",
       "1033   2107                     78        time\n",
       "380     804                     66      experi\n",
       "1084   2230                     65          us"
      ]
     },
     "execution_count": 46,
     "metadata": {},
     "output_type": "execute_result"
    }
   ],
   "source": [
    "#book 4\n",
    "\n",
    "# Convert the Bag of words model for book 4 into a DataFrame\n",
    "book_4_df = pd.DataFrame(bag_of_words[3])\n",
    "\n",
    "# Add the column names to the DataFrame\n",
    "book_4_df.columns = [\"Index\",\"Number of occurrences\"]\n",
    "\n",
    "# Add a column containing the token corresponding to the dictionary index\n",
    "book_4_df[\"Book4_token\"] = [dict[index] for index in book_4_df[\"Index\"]]\n",
    "\n",
    "# Sort the DataFrame by descending number of occurrences and print the first 10 values\n",
    "book4_df_head = book_4_df.sort_values(by=\"Number of occurrences\", ascending=False).head(7)\n",
    "book4_df_head"
   ]
  },
  {
   "cell_type": "code",
   "execution_count": 47,
   "id": "25ec6444",
   "metadata": {},
   "outputs": [
    {
     "data": {
      "image/png": "[encoded data removed]",
      "text/plain": [
       "<Figure size 432x288 with 1 Axes>"
      ]
     },
     "metadata": {
      "needs_background": "light"
     },
     "output_type": "display_data"
    }
   ],
   "source": [
    "%matplotlib inline\n",
    "plt.bar(book4_df_head[\"Book4_token\"], book4_df_head[\"Number of occurrences\"], color = 'brown', width = 0.5)\n",
    "plt.xlabel(\"Stemmed words\", color = \"red\")\n",
    "plt.ylabel(\"Number of occurrences\", color = \"red\")\n",
    "plt.title(\"Top 7 Most common words of 'Payoff The Hidden Logic That Shapes Our Motivations' \", color=\"red\" )\n",
    "plt.xticks(rotation=0, color= \"blue\")\n",
    "plt.yticks(color='blue')\n",
    "#plt.savefig(\"words.pdf\")\n",
    "plt.show()"
   ]
  },
  {
   "cell_type": "code",
   "execution_count": 48,
   "id": "48e0cf1d",
   "metadata": {},
   "outputs": [
    {
     "data": {
      "text/html": [
       "<div>\n",
       "<style scoped>\n",
       "    .dataframe tbody tr th:only-of-type {\n",
       "        vertical-align: middle;\n",
       "    }\n",
       "\n",
       "    .dataframe tbody tr th {\n",
       "        vertical-align: top;\n",
       "    }\n",
       "\n",
       "    .dataframe thead th {\n",
       "        text-align: right;\n",
       "    }\n",
       "</style>\n",
       "<table border=\"1\" class=\"dataframe\">\n",
       "  <thead>\n",
       "    <tr style=\"text-align: right;\">\n",
       "      <th></th>\n",
       "      <th>Index</th>\n",
       "      <th>Number of occurrences</th>\n",
       "      <th>Book5_token</th>\n",
       "    </tr>\n",
       "  </thead>\n",
       "  <tbody>\n",
       "    <tr>\n",
       "      <th>568</th>\n",
       "      <td>955</td>\n",
       "      <td>261</td>\n",
       "      <td>goal</td>\n",
       "    </tr>\n",
       "    <tr>\n",
       "      <th>1232</th>\n",
       "      <td>2107</td>\n",
       "      <td>235</td>\n",
       "      <td>time</td>\n",
       "    </tr>\n",
       "    <tr>\n",
       "      <th>805</th>\n",
       "      <td>1370</td>\n",
       "      <td>200</td>\n",
       "      <td>motiv</td>\n",
       "    </tr>\n",
       "    <tr>\n",
       "      <th>1353</th>\n",
       "      <td>2334</td>\n",
       "      <td>173</td>\n",
       "      <td>work</td>\n",
       "    </tr>\n",
       "    <tr>\n",
       "      <th>1361</th>\n",
       "      <td>2344</td>\n",
       "      <td>157</td>\n",
       "      <td>would</td>\n",
       "    </tr>\n",
       "    <tr>\n",
       "      <th>704</th>\n",
       "      <td>1219</td>\n",
       "      <td>150</td>\n",
       "      <td>learn</td>\n",
       "    </tr>\n",
       "    <tr>\n",
       "      <th>751</th>\n",
       "      <td>1281</td>\n",
       "      <td>143</td>\n",
       "      <td>make</td>\n",
       "    </tr>\n",
       "  </tbody>\n",
       "</table>\n",
       "</div>"
      ],
      "text/plain": [
       "      Index  Number of occurrences Book5_token\n",
       "568     955                    261        goal\n",
       "1232   2107                    235        time\n",
       "805    1370                    200       motiv\n",
       "1353   2334                    173        work\n",
       "1361   2344                    157       would\n",
       "704    1219                    150       learn\n",
       "751    1281                    143        make"
      ]
     },
     "execution_count": 48,
     "metadata": {},
     "output_type": "execute_result"
    }
   ],
   "source": [
    "#Book 5\n",
    "\n",
    "# Convert the Bag of words model for book 5 into a DataFrame\n",
    "book_5_df = pd.DataFrame(bag_of_words[4])\n",
    "\n",
    "# Add the column names to the DataFrame\n",
    "book_5_df.columns = [\"Index\",\"Number of occurrences\"]\n",
    "\n",
    "# Add a column containing the token corresponding to the dictionary index\n",
    "book_5_df[\"Book5_token\"] = [dict[index] for index in book_5_df[\"Index\"]]\n",
    "\n",
    "# Sort the DataFrame by descending number of occurrences and print the first 10 values\n",
    "book5_df_head = book_5_df.sort_values(by=\"Number of occurrences\", ascending=False).head(7)\n",
    "book5_df_head"
   ]
  },
  {
   "cell_type": "code",
   "execution_count": 49,
   "id": "d93925d3",
   "metadata": {},
   "outputs": [
    {
     "data": {
      "image/png": "[encoded data removed]",
      "text/plain": [
       "<Figure size 432x288 with 1 Axes>"
      ]
     },
     "metadata": {
      "needs_background": "light"
     },
     "output_type": "display_data"
    }
   ],
   "source": [
    "%matplotlib inline\n",
    "plt.bar(book5_df_head[\"Book5_token\"], book5_df_head[\"Number of occurrences\"], color = 'brown', width = 0.5)\n",
    "plt.xlabel(\"Stemmed words\", color = \"red\")\n",
    "plt.ylabel(\"Number of occurrences\", color = \"red\")\n",
    "plt.title(\"Top 7 Most common words of 'The Motivation Hacker ' \", color=\"red\" )\n",
    "plt.xticks(rotation=0, color= \"blue\")\n",
    "plt.yticks(color='blue')\n",
    "#plt.savefig(\"words.pdf\")\n",
    "plt.show()"
   ]
  },
  {
   "cell_type": "markdown",
   "id": "066f218c",
   "metadata": {},
   "source": [
    "### Building a term frequency - inverse document frequency model(tf-idf model)"
   ]
  },
  {
   "cell_type": "code",
   "execution_count": 76,
   "id": "e6b94825",
   "metadata": {},
   "outputs": [],
   "source": [
    "# Load the gensim functions that will allow us to generate tf-idf models\n",
    "from gensim.models import TfidfModel\n",
    "\n",
    "# Generate the tf-idf model\n",
    "tf_model = TfidfModel(bag_of_words)\n",
    "\n"
   ]
  },
  {
   "cell_type": "markdown",
   "id": "5ade21cb",
   "metadata": {},
   "source": [
    "#### Inspecting the tf_idf words of each book seperately"
   ]
  },
  {
   "cell_type": "markdown",
   "id": "1616122d",
   "metadata": {},
   "source": [
    "## Book1"
   ]
  },
  {
   "cell_type": "code",
   "execution_count": 55,
   "id": "8687db69",
   "metadata": {},
   "outputs": [],
   "source": [
    "# Print the model for book 1\n",
    "#tf_model[bag_of_words[0]]"
   ]
  },
  {
   "cell_type": "code",
   "execution_count": 56,
   "id": "163a45f0",
   "metadata": {},
   "outputs": [
    {
     "data": {
      "text/html": [
       "<div>\n",
       "<style scoped>\n",
       "    .dataframe tbody tr th:only-of-type {\n",
       "        vertical-align: middle;\n",
       "    }\n",
       "\n",
       "    .dataframe tbody tr th {\n",
       "        vertical-align: top;\n",
       "    }\n",
       "\n",
       "    .dataframe thead th {\n",
       "        text-align: right;\n",
       "    }\n",
       "</style>\n",
       "<table border=\"1\" class=\"dataframe\">\n",
       "  <thead>\n",
       "    <tr style=\"text-align: right;\">\n",
       "      <th></th>\n",
       "      <th>id</th>\n",
       "      <th>tf_idf_score</th>\n",
       "      <th>Book1_words</th>\n",
       "    </tr>\n",
       "  </thead>\n",
       "  <tbody>\n",
       "    <tr>\n",
       "      <th>493</th>\n",
       "      <td>643</td>\n",
       "      <td>0.605687</td>\n",
       "      <td>displeasur</td>\n",
       "    </tr>\n",
       "    <tr>\n",
       "      <th>1128</th>\n",
       "      <td>1556</td>\n",
       "      <td>0.556069</td>\n",
       "      <td>pleasur</td>\n",
       "    </tr>\n",
       "    <tr>\n",
       "      <th>1640</th>\n",
       "      <td>2259</td>\n",
       "      <td>0.195221</td>\n",
       "      <td>videogam</td>\n",
       "    </tr>\n",
       "    <tr>\n",
       "      <th>145</th>\n",
       "      <td>178</td>\n",
       "      <td>0.156742</td>\n",
       "      <td>anxieti</td>\n",
       "    </tr>\n",
       "    <tr>\n",
       "      <th>82</th>\n",
       "      <td>96</td>\n",
       "      <td>0.152685</td>\n",
       "      <td>activ</td>\n",
       "    </tr>\n",
       "  </tbody>\n",
       "</table>\n",
       "</div>"
      ],
      "text/plain": [
       "        id  tf_idf_score Book1_words\n",
       "493    643      0.605687  displeasur\n",
       "1128  1556      0.556069     pleasur\n",
       "1640  2259      0.195221    videogam\n",
       "145    178      0.156742     anxieti\n",
       "82      96      0.152685       activ"
      ]
     },
     "execution_count": 56,
     "metadata": {},
     "output_type": "execute_result"
    }
   ],
   "source": [
    "# Convert the tf-idf model for book 1 into a DataFrame\n",
    "df_tf_idf = pd.DataFrame(tf_model[bag_of_words[0]])\n",
    "\n",
    "# Name the columns of the DataFrame id and score\n",
    "df_tf_idf.columns=[\"id\", \"tf_idf_score\"]\n",
    "\n",
    "# Add the tokens corresponding to the numerical indices for better readability\n",
    "df_tf_idf['Book1_words'] = [dict[i] for i in list(df_tf_idf[\"id\"])]\n",
    "\n",
    "# Sort the DataFrame by descending tf-idf score and print the first 7 rows.\n",
    "book1_tfidf_head = df_tf_idf.sort_values(by=\"tf_idf_score\", ascending=False).head(5)\n",
    "book1_tfidf_head"
   ]
  },
  {
   "cell_type": "code",
   "execution_count": 57,
   "id": "123272bc",
   "metadata": {},
   "outputs": [
    {
     "data": {
      "image/png": "[encoded data removed]",
      "text/plain": [
       "<Figure size 432x288 with 1 Axes>"
      ]
     },
     "metadata": {
      "needs_background": "light"
     },
     "output_type": "display_data"
    }
   ],
   "source": [
    "%matplotlib inline\n",
    "plt.bar(book1_tfidf_head[\"Book1_words\"], book1_tfidf_head[\"tf_idf_score\"], color = 'purple', width = 0.5)\n",
    "plt.xlabel(\"Book1 Words\", color = \"green\")\n",
    "plt.ylabel(\"TF-IDF Scores\", color = \"green\")\n",
    "plt.title(\"Top 5 most significant words of 'Addiction, Procrastination, and Laziness' \", color=\"red\" )\n",
    "plt.xticks(rotation=0, color= \"blue\")\n",
    "plt.yticks(color='blue')\n",
    "#plt.savefig(\"words.pdf\")\n",
    "plt.show()"
   ]
  },
  {
   "cell_type": "markdown",
   "id": "b2e120c1",
   "metadata": {},
   "source": [
    "### Book 2"
   ]
  },
  {
   "cell_type": "code",
   "execution_count": 58,
   "id": "b7f3200f",
   "metadata": {},
   "outputs": [],
   "source": [
    "# Print the model for book 2\n",
    "#tf_model[bag_of_words[1]]"
   ]
  },
  {
   "cell_type": "code",
   "execution_count": 59,
   "id": "e0dae1fd",
   "metadata": {},
   "outputs": [
    {
     "data": {
      "text/html": [
       "<div>\n",
       "<style scoped>\n",
       "    .dataframe tbody tr th:only-of-type {\n",
       "        vertical-align: middle;\n",
       "    }\n",
       "\n",
       "    .dataframe tbody tr th {\n",
       "        vertical-align: top;\n",
       "    }\n",
       "\n",
       "    .dataframe thead th {\n",
       "        text-align: right;\n",
       "    }\n",
       "</style>\n",
       "<table border=\"1\" class=\"dataframe\">\n",
       "  <thead>\n",
       "    <tr style=\"text-align: right;\">\n",
       "      <th></th>\n",
       "      <th>id</th>\n",
       "      <th>tf_idf_score</th>\n",
       "      <th>Book2_words</th>\n",
       "    </tr>\n",
       "  </thead>\n",
       "  <tbody>\n",
       "    <tr>\n",
       "      <th>2461</th>\n",
       "      <td>3962</td>\n",
       "      <td>0.440157</td>\n",
       "      <td>masteri</td>\n",
       "    </tr>\n",
       "    <tr>\n",
       "      <th>1080</th>\n",
       "      <td>2581</td>\n",
       "      <td>0.317238</td>\n",
       "      <td>autonomi</td>\n",
       "    </tr>\n",
       "    <tr>\n",
       "      <th>1578</th>\n",
       "      <td>3079</td>\n",
       "      <td>0.243491</td>\n",
       "      <td>deci</td>\n",
       "    </tr>\n",
       "    <tr>\n",
       "      <th>1760</th>\n",
       "      <td>3261</td>\n",
       "      <td>0.205272</td>\n",
       "      <td>employe</td>\n",
       "    </tr>\n",
       "    <tr>\n",
       "      <th>1537</th>\n",
       "      <td>3038</td>\n",
       "      <td>0.196666</td>\n",
       "      <td>csikszentmihalyi</td>\n",
       "    </tr>\n",
       "  </tbody>\n",
       "</table>\n",
       "</div>"
      ],
      "text/plain": [
       "        id  tf_idf_score       Book2_words\n",
       "2461  3962      0.440157           masteri\n",
       "1080  2581      0.317238          autonomi\n",
       "1578  3079      0.243491              deci\n",
       "1760  3261      0.205272           employe\n",
       "1537  3038      0.196666  csikszentmihalyi"
      ]
     },
     "execution_count": 59,
     "metadata": {},
     "output_type": "execute_result"
    }
   ],
   "source": [
    "# Convert the tf-idf model for book 1 into a DataFrame\n",
    "df_tf_idf = pd.DataFrame(tf_model[bag_of_words[1]])\n",
    "\n",
    "# Name the columns of the DataFrame id and score\n",
    "df_tf_idf.columns=[\"id\", \"tf_idf_score\"]\n",
    "\n",
    "# Add the tokens corresponding to the numerical indices for better readability\n",
    "df_tf_idf['Book2_words'] = [dict[i] for i in list(df_tf_idf[\"id\"])]\n",
    "\n",
    "# Sort the DataFrame by descending tf-idf score and print the first 10 rows.\n",
    "book2_tfidf_head = df_tf_idf.sort_values(by=\"tf_idf_score\", ascending=False).head(5)\n",
    "book2_tfidf_head"
   ]
  },
  {
   "cell_type": "code",
   "execution_count": 60,
   "id": "ffde0a9b",
   "metadata": {},
   "outputs": [
    {
     "data": {
      "image/png": "[encoded data removed]",
      "text/plain": [
       "<Figure size 432x288 with 1 Axes>"
      ]
     },
     "metadata": {
      "needs_background": "light"
     },
     "output_type": "display_data"
    }
   ],
   "source": [
    "%matplotlib inline\n",
    "plt.bar(book2_tfidf_head[\"Book2_words\"], book2_tfidf_head[\"tf_idf_score\"], color = 'purple', width = 0.5)\n",
    "plt.xlabel(\"Book2 Words\", color = \"green\")\n",
    "plt.ylabel(\"TF-IDF Scores\", color = \"green\")\n",
    "plt.title(\"Top 5 most significant words of 'Drive The Surprising Truth about What Motivates Us' \", color=\"red\" )\n",
    "plt.xticks(rotation=0, color= \"blue\")\n",
    "plt.yticks(color='blue')\n",
    "#plt.savefig(\"words.pdf\")\n",
    "plt.show()"
   ]
  },
  {
   "cell_type": "code",
   "execution_count": 51,
   "id": "3c83dc76",
   "metadata": {},
   "outputs": [],
   "source": [
    "# Print the model for book 3\n",
    "#tf_model[bag_of_words[2]]"
   ]
  },
  {
   "cell_type": "code",
   "execution_count": 61,
   "id": "511f1d29",
   "metadata": {},
   "outputs": [
    {
     "data": {
      "text/html": [
       "<div>\n",
       "<style scoped>\n",
       "    .dataframe tbody tr th:only-of-type {\n",
       "        vertical-align: middle;\n",
       "    }\n",
       "\n",
       "    .dataframe tbody tr th {\n",
       "        vertical-align: top;\n",
       "    }\n",
       "\n",
       "    .dataframe thead th {\n",
       "        text-align: right;\n",
       "    }\n",
       "</style>\n",
       "<table border=\"1\" class=\"dataframe\">\n",
       "  <thead>\n",
       "    <tr style=\"text-align: right;\">\n",
       "      <th></th>\n",
       "      <th>id</th>\n",
       "      <th>tf_idf_score</th>\n",
       "      <th>Book3_words</th>\n",
       "    </tr>\n",
       "  </thead>\n",
       "  <tbody>\n",
       "    <tr>\n",
       "      <th>860</th>\n",
       "      <td>5480</td>\n",
       "      <td>0.449419</td>\n",
       "      <td>loa</td>\n",
       "    </tr>\n",
       "    <tr>\n",
       "      <th>1023</th>\n",
       "      <td>5643</td>\n",
       "      <td>0.396546</td>\n",
       "      <td>vibrat</td>\n",
       "    </tr>\n",
       "    <tr>\n",
       "      <th>139</th>\n",
       "      <td>1214</td>\n",
       "      <td>0.236414</td>\n",
       "      <td>law</td>\n",
       "    </tr>\n",
       "    <tr>\n",
       "      <th>793</th>\n",
       "      <td>5413</td>\n",
       "      <td>0.224710</td>\n",
       "      <td>frequenc</td>\n",
       "    </tr>\n",
       "    <tr>\n",
       "      <th>829</th>\n",
       "      <td>5449</td>\n",
       "      <td>0.188136</td>\n",
       "      <td>husband</td>\n",
       "    </tr>\n",
       "  </tbody>\n",
       "</table>\n",
       "</div>"
      ],
      "text/plain": [
       "        id  tf_idf_score Book3_words\n",
       "860   5480      0.449419         loa\n",
       "1023  5643      0.396546      vibrat\n",
       "139   1214      0.236414         law\n",
       "793   5413      0.224710    frequenc\n",
       "829   5449      0.188136     husband"
      ]
     },
     "execution_count": 61,
     "metadata": {},
     "output_type": "execute_result"
    }
   ],
   "source": [
    "# Convert the tf-idf model for book 1 into a DataFrame\n",
    "df_tf_idf = pd.DataFrame(tf_model[bag_of_words[2]])\n",
    "\n",
    "# Name the columns of the DataFrame id and score\n",
    "df_tf_idf.columns=[\"id\", \"tf_idf_score\"]\n",
    "\n",
    "# Add the tokens corresponding to the numerical indices for better readability\n",
    "df_tf_idf['Book3_words'] = [dict[i] for i in list(df_tf_idf[\"id\"])]\n",
    "\n",
    "# Sort the DataFrame by descending tf-idf score and print the first 10 rows.\n",
    "book3_tfidf_head = df_tf_idf.sort_values(by=\"tf_idf_score\", ascending=False).head(5)\n",
    "book3_tfidf_head"
   ]
  },
  {
   "cell_type": "code",
   "execution_count": 62,
   "id": "f2e06604",
   "metadata": {},
   "outputs": [
    {
     "data": {
      "image/png": "[encoded data removed]",
      "text/plain": [
       "<Figure size 432x288 with 1 Axes>"
      ]
     },
     "metadata": {
      "needs_background": "light"
     },
     "output_type": "display_data"
    }
   ],
   "source": [
    "%matplotlib inline\n",
    "plt.bar(book3_tfidf_head[\"Book3_words\"], book3_tfidf_head[\"tf_idf_score\"], color = 'purple', width = 0.5)\n",
    "plt.xlabel(\"Book3 Words\", color = \"green\")\n",
    "plt.ylabel(\"TF-IDF Scores\", color = \"green\")\n",
    "plt.title(\"Top 5 most significant words of 'Law of Attraction The Secret Power of The Universe' \", color=\"red\" )\n",
    "plt.xticks(rotation=0, color= \"blue\")\n",
    "plt.yticks(color='blue')\n",
    "#plt.savefig(\"words.pdf\")\n",
    "plt.show()"
   ]
  },
  {
   "cell_type": "code",
   "execution_count": 54,
   "id": "3381841b",
   "metadata": {},
   "outputs": [],
   "source": [
    "# Print the model for book 4\n",
    "#tf_model[bag_of_words[3]]"
   ]
  },
  {
   "cell_type": "code",
   "execution_count": 63,
   "id": "1905837f",
   "metadata": {},
   "outputs": [
    {
     "data": {
      "text/html": [
       "<div>\n",
       "<style scoped>\n",
       "    .dataframe tbody tr th:only-of-type {\n",
       "        vertical-align: middle;\n",
       "    }\n",
       "\n",
       "    .dataframe tbody tr th {\n",
       "        vertical-align: top;\n",
       "    }\n",
       "\n",
       "    .dataframe thead th {\n",
       "        text-align: right;\n",
       "    }\n",
       "</style>\n",
       "<table border=\"1\" class=\"dataframe\">\n",
       "  <thead>\n",
       "    <tr style=\"text-align: right;\">\n",
       "      <th></th>\n",
       "      <th>id</th>\n",
       "      <th>tf_idf_score</th>\n",
       "      <th>Book4_words</th>\n",
       "    </tr>\n",
       "  </thead>\n",
       "  <tbody>\n",
       "    <tr>\n",
       "      <th>1355</th>\n",
       "      <td>5720</td>\n",
       "      <td>0.405098</td>\n",
       "      <td>bionicl</td>\n",
       "    </tr>\n",
       "    <tr>\n",
       "      <th>1558</th>\n",
       "      <td>5923</td>\n",
       "      <td>0.284664</td>\n",
       "      <td>goodwil</td>\n",
       "    </tr>\n",
       "    <tr>\n",
       "      <th>733</th>\n",
       "      <td>3261</td>\n",
       "      <td>0.236865</td>\n",
       "      <td>employe</td>\n",
       "    </tr>\n",
       "    <tr>\n",
       "      <th>1738</th>\n",
       "      <td>6103</td>\n",
       "      <td>0.186126</td>\n",
       "      <td>origami</td>\n",
       "    </tr>\n",
       "    <tr>\n",
       "      <th>565</th>\n",
       "      <td>2668</td>\n",
       "      <td>0.149599</td>\n",
       "      <td>bonu</td>\n",
       "    </tr>\n",
       "  </tbody>\n",
       "</table>\n",
       "</div>"
      ],
      "text/plain": [
       "        id  tf_idf_score Book4_words\n",
       "1355  5720      0.405098     bionicl\n",
       "1558  5923      0.284664     goodwil\n",
       "733   3261      0.236865     employe\n",
       "1738  6103      0.186126     origami\n",
       "565   2668      0.149599        bonu"
      ]
     },
     "execution_count": 63,
     "metadata": {},
     "output_type": "execute_result"
    }
   ],
   "source": [
    "# Convert the tf-idf model for book 1 into a DataFrame\n",
    "df_tf_idf = pd.DataFrame(tf_model[bag_of_words[3]])\n",
    "\n",
    "# Name the columns of the DataFrame id and score\n",
    "df_tf_idf.columns=[\"id\", \"tf_idf_score\"]\n",
    "\n",
    "# Add the tokens corresponding to the numerical indices for better readability\n",
    "df_tf_idf['Book4_words'] = [dict[i] for i in list(df_tf_idf[\"id\"])]\n",
    "\n",
    "# Sort the DataFrame by descending tf-idf score and print the first 10 rows.\n",
    "book4_tfidf_head = df_tf_idf.sort_values(by=\"tf_idf_score\", ascending=False).head(5)\n",
    "book4_tfidf_head"
   ]
  },
  {
   "cell_type": "code",
   "execution_count": 64,
   "id": "7360a6b7",
   "metadata": {},
   "outputs": [
    {
     "data": {
      "image/png": "[encoded data removed]",
      "text/plain": [
       "<Figure size 432x288 with 1 Axes>"
      ]
     },
     "metadata": {
      "needs_background": "light"
     },
     "output_type": "display_data"
    }
   ],
   "source": [
    "%matplotlib inline\n",
    "plt.bar(book4_tfidf_head[\"Book4_words\"], book4_tfidf_head[\"tf_idf_score\"], color = 'purple', width = 0.5)\n",
    "plt.xlabel(\"Book4 Words\", color = \"green\")\n",
    "plt.ylabel(\"TF-IDF Scores\", color = \"green\")\n",
    "plt.title(\"Top 5 most significant words of 'Payoff The Hidden Logic That Shapes Our Motivations' \", color=\"red\" )\n",
    "plt.xticks(rotation=0, color= \"blue\")\n",
    "plt.yticks(color='blue')\n",
    "#plt.savefig(\"words.pdf\")\n",
    "plt.show()"
   ]
  },
  {
   "cell_type": "code",
   "execution_count": 57,
   "id": "cb7f15c3",
   "metadata": {},
   "outputs": [],
   "source": [
    "# Print the model for book 5\n",
    "#tf_model[bag_of_words[4]]"
   ]
  },
  {
   "cell_type": "code",
   "execution_count": 70,
   "id": "e9854abe",
   "metadata": {},
   "outputs": [
    {
     "data": {
      "text/html": [
       "<div>\n",
       "<style scoped>\n",
       "    .dataframe tbody tr th:only-of-type {\n",
       "        vertical-align: middle;\n",
       "    }\n",
       "\n",
       "    .dataframe tbody tr th {\n",
       "        vertical-align: top;\n",
       "    }\n",
       "\n",
       "    .dataframe thead th {\n",
       "        text-align: right;\n",
       "    }\n",
       "</style>\n",
       "<table border=\"1\" class=\"dataframe\">\n",
       "  <thead>\n",
       "    <tr style=\"text-align: right;\">\n",
       "      <th></th>\n",
       "      <th>id</th>\n",
       "      <th>tf_idf_score</th>\n",
       "      <th>Book5_words</th>\n",
       "    </tr>\n",
       "  </thead>\n",
       "  <tbody>\n",
       "    <tr>\n",
       "      <th>2658</th>\n",
       "      <td>7318</td>\n",
       "      <td>0.409672</td>\n",
       "      <td>spiral</td>\n",
       "    </tr>\n",
       "    <tr>\n",
       "      <th>2494</th>\n",
       "      <td>7154</td>\n",
       "      <td>0.324324</td>\n",
       "      <td>precommit</td>\n",
       "    </tr>\n",
       "    <tr>\n",
       "      <th>2628</th>\n",
       "      <td>7288</td>\n",
       "      <td>0.256045</td>\n",
       "      <td>skritter</td>\n",
       "    </tr>\n",
       "    <tr>\n",
       "      <th>2333</th>\n",
       "      <td>6993</td>\n",
       "      <td>0.221906</td>\n",
       "      <td>lucid</td>\n",
       "    </tr>\n",
       "    <tr>\n",
       "      <th>2211</th>\n",
       "      <td>6871</td>\n",
       "      <td>0.221906</td>\n",
       "      <td>hacker</td>\n",
       "    </tr>\n",
       "  </tbody>\n",
       "</table>\n",
       "</div>"
      ],
      "text/plain": [
       "        id  tf_idf_score Book5_words\n",
       "2658  7318      0.409672      spiral\n",
       "2494  7154      0.324324   precommit\n",
       "2628  7288      0.256045    skritter\n",
       "2333  6993      0.221906       lucid\n",
       "2211  6871      0.221906      hacker"
      ]
     },
     "execution_count": 70,
     "metadata": {},
     "output_type": "execute_result"
    }
   ],
   "source": [
    "# Convert the tf-idf model for book 1 into a DataFrame\n",
    "df_tf_idf = pd.DataFrame(tf_model[bag_of_words[4]])\n",
    "\n",
    "# Name the columns of the DataFrame id and score\n",
    "df_tf_idf.columns=[\"id\", \"tf_idf_score\"]\n",
    "\n",
    "# Add the tokens corresponding to the numerical indices for better readability\n",
    "df_tf_idf['Book5_words'] = [dict[i] for i in list(df_tf_idf[\"id\"])]\n",
    "\n",
    "# Sort the DataFrame by descending tf-idf score and print the first 10 rows.\n",
    "book5_tfidf_head = df_tf_idf.sort_values(by=\"tf_idf_score\", ascending=False).head(5)\n",
    "book5_tfidf_head"
   ]
  },
  {
   "cell_type": "code",
   "execution_count": 71,
   "id": "3938a8eb",
   "metadata": {},
   "outputs": [
    {
     "data": {
      "image/png": "[encoded data removed]",
      "text/plain": [
       "<Figure size 432x288 with 1 Axes>"
      ]
     },
     "metadata": {
      "needs_background": "light"
     },
     "output_type": "display_data"
    }
   ],
   "source": [
    "%matplotlib inline\n",
    "plt.bar(book5_tfidf_head[\"Book5_words\"], book5_tfidf_head[\"tf_idf_score\"], color = 'purple', width = 0.5)\n",
    "plt.xlabel(\"Book5 Words\", color = \"green\")\n",
    "plt.ylabel(\"TF-IDF Scores\", color = \"green\")\n",
    "plt.title(\"Top 5 most significant words of 'The Motivation Hacker' \", color=\"red\" )\n",
    "plt.xticks(rotation=0, color= \"blue\")\n",
    "plt.yticks(color='blue')\n",
    "#plt.savefig(\"words.pdf\")\n",
    "plt.show()"
   ]
  },
  {
   "cell_type": "markdown",
   "id": "6dba4b32",
   "metadata": {},
   "source": [
    "#### Measuring the distance between texts "
   ]
  },
  {
   "cell_type": "code",
   "execution_count": 72,
   "id": "c6334adf",
   "metadata": {},
   "outputs": [
    {
     "data": {
      "text/html": [
       "<div>\n",
       "<style scoped>\n",
       "    .dataframe tbody tr th:only-of-type {\n",
       "        vertical-align: middle;\n",
       "    }\n",
       "\n",
       "    .dataframe tbody tr th {\n",
       "        vertical-align: top;\n",
       "    }\n",
       "\n",
       "    .dataframe thead th {\n",
       "        text-align: right;\n",
       "    }\n",
       "</style>\n",
       "<table border=\"1\" class=\"dataframe\">\n",
       "  <thead>\n",
       "    <tr style=\"text-align: right;\">\n",
       "      <th></th>\n",
       "      <th>Addiction, Procrastination, and Laziness</th>\n",
       "      <th>Drive The Surprising Truth about What Motivates Us</th>\n",
       "      <th>Law of Attraction The Secret Power of The Universe</th>\n",
       "      <th>Payoff The Hidden Logic That Shapes Our Motivations</th>\n",
       "      <th>The Motivation Hacker by Nick Winter</th>\n",
       "    </tr>\n",
       "  </thead>\n",
       "  <tbody>\n",
       "    <tr>\n",
       "      <th>Addiction, Procrastination, and Laziness</th>\n",
       "      <td>1.000002</td>\n",
       "      <td>0.045447</td>\n",
       "      <td>0.018520</td>\n",
       "      <td>0.018998</td>\n",
       "      <td>0.027632</td>\n",
       "    </tr>\n",
       "    <tr>\n",
       "      <th>Drive The Surprising Truth about What Motivates Us</th>\n",
       "      <td>0.045447</td>\n",
       "      <td>0.999999</td>\n",
       "      <td>0.037870</td>\n",
       "      <td>0.164651</td>\n",
       "      <td>0.057233</td>\n",
       "    </tr>\n",
       "    <tr>\n",
       "      <th>Law of Attraction The Secret Power of The Universe</th>\n",
       "      <td>0.018520</td>\n",
       "      <td>0.037870</td>\n",
       "      <td>1.000000</td>\n",
       "      <td>0.038835</td>\n",
       "      <td>0.027504</td>\n",
       "    </tr>\n",
       "    <tr>\n",
       "      <th>Payoff The Hidden Logic That Shapes Our Motivations</th>\n",
       "      <td>0.018998</td>\n",
       "      <td>0.164651</td>\n",
       "      <td>0.038835</td>\n",
       "      <td>0.999999</td>\n",
       "      <td>0.032519</td>\n",
       "    </tr>\n",
       "    <tr>\n",
       "      <th>The Motivation Hacker by Nick Winter</th>\n",
       "      <td>0.027632</td>\n",
       "      <td>0.057233</td>\n",
       "      <td>0.027504</td>\n",
       "      <td>0.032519</td>\n",
       "      <td>1.000001</td>\n",
       "    </tr>\n",
       "  </tbody>\n",
       "</table>\n",
       "</div>"
      ],
      "text/plain": [
       "                                                    Addiction, Procrastination, and Laziness  \\\n",
       "Addiction, Procrastination, and Laziness                                            1.000002   \n",
       "Drive The Surprising Truth about What Motivates Us                                  0.045447   \n",
       "Law of Attraction The Secret Power of The Universe                                  0.018520   \n",
       "Payoff The Hidden Logic That Shapes Our Motivat...                                  0.018998   \n",
       "The Motivation Hacker by Nick Winter                                                0.027632   \n",
       "\n",
       "                                                    Drive The Surprising Truth about What Motivates Us  \\\n",
       "Addiction, Procrastination, and Laziness                                                     0.045447    \n",
       "Drive The Surprising Truth about What Motivates Us                                           0.999999    \n",
       "Law of Attraction The Secret Power of The Universe                                           0.037870    \n",
       "Payoff The Hidden Logic That Shapes Our Motivat...                                           0.164651    \n",
       "The Motivation Hacker by Nick Winter                                                         0.057233    \n",
       "\n",
       "                                                    Law of Attraction The Secret Power of The Universe  \\\n",
       "Addiction, Procrastination, and Laziness                                                     0.018520    \n",
       "Drive The Surprising Truth about What Motivates Us                                           0.037870    \n",
       "Law of Attraction The Secret Power of The Universe                                           1.000000    \n",
       "Payoff The Hidden Logic That Shapes Our Motivat...                                           0.038835    \n",
       "The Motivation Hacker by Nick Winter                                                         0.027504    \n",
       "\n",
       "                                                    Payoff The Hidden Logic That Shapes Our Motivations  \\\n",
       "Addiction, Procrastination, and Laziness                                                     0.018998     \n",
       "Drive The Surprising Truth about What Motivates Us                                           0.164651     \n",
       "Law of Attraction The Secret Power of The Universe                                           0.038835     \n",
       "Payoff The Hidden Logic That Shapes Our Motivat...                                           0.999999     \n",
       "The Motivation Hacker by Nick Winter                                                         0.032519     \n",
       "\n",
       "                                                    The Motivation Hacker by Nick Winter  \n",
       "Addiction, Procrastination, and Laziness                                        0.027632  \n",
       "Drive The Surprising Truth about What Motivates Us                              0.057233  \n",
       "Law of Attraction The Secret Power of The Universe                              0.027504  \n",
       "Payoff The Hidden Logic That Shapes Our Motivat...                              0.032519  \n",
       "The Motivation Hacker by Nick Winter                                            1.000001  "
      ]
     },
     "execution_count": 72,
     "metadata": {},
     "output_type": "execute_result"
    }
   ],
   "source": [
    "# Load the library allowing similarity computations\n",
    "from gensim import similarities\n",
    "\n",
    "# Compute the similarity matrix (pairwise distance between all texts)\n",
    "similarity = similarities.MatrixSimilarity(tf_model[bag_of_words])\n",
    "\n",
    "# Transform the resulting list into a DataFrame\n",
    "similarity_df = pd.DataFrame(list(similarity))\n",
    "\n",
    "# Add the titles of the books as columns and index of the DataFrame\n",
    "similarity_df.columns = titles\n",
    "similarity_df.index = titles\n",
    "\n",
    "# Print the resulting matrix\n",
    "similarity_df"
   ]
  },
  {
   "cell_type": "markdown",
   "id": "e9aca9ce",
   "metadata": {},
   "source": [
    "### Comparing the contents of one book to other books"
   ]
  },
  {
   "cell_type": "markdown",
   "id": "02035144",
   "metadata": {},
   "source": [
    "####  Books most similar to \"Drive The Surprising Truth about What Motivates Us\""
   ]
  },
  {
   "cell_type": "code",
   "execution_count": 73,
   "id": "3ce90685",
   "metadata": {},
   "outputs": [
    {
     "data": {
      "image/png": "[encoded data removed]",
      "text/plain": [
       "<Figure size 432x288 with 1 Axes>"
      ]
     },
     "metadata": {
      "needs_background": "light"
     },
     "output_type": "display_data"
    }
   ],
   "source": [
    "#Comparing books with respect to \"Drive The Surprising Truth about What Motivates Us\"\n",
    "\n",
    "# This is needed to display plots in a notebook\n",
    "%matplotlib inline\n",
    "\n",
    "# Select the column corresponding to \"Drive The Surprising Truth about What Motivates Us\" and \n",
    "compare = similarity_df[\"Drive The Surprising Truth about What Motivates Us\"]\n",
    "\n",
    "# Sort by ascending scores\n",
    "compare_sorted = compare.sort_values(ascending=True)\n",
    "\n",
    "#storing all books except \"Addiction, Procrastination, and Laziness\" to a variable\n",
    "excluded_book = compare_sorted.iloc[[0,1,2,3]]\n",
    "\n",
    "\n",
    "# Plot this data has a horizontal bar plot\n",
    "excluded_book.plot.barh(x='lab', y='val', rot=0, color = \"green\").plot()\n",
    "\n",
    "# Modify the axes labels and plot title for better readability\n",
    "plt.xlabel(\"Cosine distance\", color = \"red\")\n",
    "plt.ylabel(\"\")\n",
    "plt.title(\"Most similar books to 'Drive The Surprising Truth about What Motivates Us'\", color = \"Blue\")\n",
    "plt.yticks(color='red')\n",
    "plt.show()"
   ]
  },
  {
   "cell_type": "markdown",
   "id": "3795b4dd",
   "metadata": {},
   "source": [
    "### Performing Hierarchical clustering  based on Single, complete and average linkages."
   ]
  },
  {
   "cell_type": "code",
   "execution_count": 79,
   "id": "d4a491ff",
   "metadata": {},
   "outputs": [
    {
     "data": {
      "image/png": "[encoded data removed]",
      "text/plain": [
       "<Figure size 432x288 with 1 Axes>"
      ]
     },
     "metadata": {
      "needs_background": "light"
     },
     "output_type": "display_data"
    }
   ],
   "source": [
    "# Import libraries\n",
    "from scipy.cluster import hierarchy\n",
    "\n",
    "#Single linkage\n",
    "cluster = hierarchy.linkage(similarity_df, 'single')\n",
    "\n",
    "# Display this result as a dendrogram\n",
    "p = hierarchy.dendrogram(cluster,  leaf_font_size=12, labels=similarity_df.index,  orientation=\"top\", leaf_rotation=90)"
   ]
  },
  {
   "cell_type": "code",
   "execution_count": 80,
   "id": "42557024",
   "metadata": {},
   "outputs": [
    {
     "data": {
      "image/png": "[encoded data removed]",
      "text/plain": [
       "<Figure size 432x288 with 1 Axes>"
      ]
     },
     "metadata": {
      "needs_background": "light"
     },
     "output_type": "display_data"
    }
   ],
   "source": [
    "# Complete linkage\n",
    "cluster = hierarchy.linkage(similarity_df, 'complete')\n",
    "\n",
    "# Display this result as a dendrogram\n",
    "p = hierarchy.dendrogram(cluster,  leaf_font_size=12, labels=similarity_df.index,  orientation=\"top\", leaf_rotation=90)"
   ]
  },
  {
   "cell_type": "code",
   "execution_count": 81,
   "id": "176fa6e3",
   "metadata": {},
   "outputs": [
    {
     "data": {
      "image/png": "[encoded data removed]",
      "text/plain": [
       "<Figure size 432x288 with 1 Axes>"
      ]
     },
     "metadata": {
      "needs_background": "light"
     },
     "output_type": "display_data"
    }
   ],
   "source": [
    "# Average linkage\n",
    "Z = hierarchy.linkage(similarity_df, 'average')\n",
    "\n",
    "# Display this result as a dendrogram\n",
    "a = hierarchy.dendrogram(cluster,  leaf_font_size=12, labels=similarity_df.index,  orientation=\"top\", leaf_rotation=90)"
   ]
  },
  {
   "cell_type": "markdown",
   "id": "9f34c647",
   "metadata": {},
   "source": []
  }
 ],
 "metadata": {
  "kernelspec": {
   "display_name": "Python 3",
   "language": "python",
   "name": "python3"
  },
  "language_info": {
   "codemirror_mode": {
    "name": "ipython",
    "version": 3
   },
   "file_extension": ".py",
   "mimetype": "text/x-python",
   "name": "python",
   "nbconvert_exporter": "python",
   "pygments_lexer": "ipython3",
   "version": "3.7.10"
  }
 },
 "nbformat": 4,
 "nbformat_minor": 5
}
